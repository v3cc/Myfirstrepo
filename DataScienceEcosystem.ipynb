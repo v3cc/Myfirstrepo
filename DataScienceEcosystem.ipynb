{
 "cells": [
  {
   "cell_type": "markdown",
   "id": "c5dbd28e-8db7-4ab3-9d46-3e38586f329e",
   "metadata": {},
   "source": [
    "# Data Science Tools and Ecosystem"
   ]
  },
  {
   "cell_type": "markdown",
   "id": "c64d4b7b-2681-4992-89b2-1ca4cef5a5d2",
   "metadata": {},
   "source": [
    "## In this notebook, Data Science Tools and Ecosystem are summarized."
   ]
  },
  {
   "cell_type": "markdown",
   "id": "02f5b804-3edb-4f19-be06-8de5bce75e59",
   "metadata": {},
   "source": [
    "**Objectives:**\n",
    "- Create a Jupyter Notebook\n",
    "- Create a markdown cell to list data science languages\n",
    "- Insert a markdown cell to list Objectives\n",
    "- Create a code cell to multiply and add numbers"
   ]
  },
  {
   "cell_type": "markdown",
   "id": "509f2d05-6da4-425e-8747-6822e51fd9db",
   "metadata": {},
   "source": [
    "### Some of the popular languages that Data Scientists use are:"
   ]
  },
  {
   "cell_type": "markdown",
   "id": "0ef81a45-c84b-4d48-97e5-b3a7b769c646",
   "metadata": {},
   "source": [
    "#### Some of the popular languages that Data Scientists use are:"
   ]
  },
  {
   "cell_type": "markdown",
   "id": "d9920be0-23aa-4a52-abcd-d4e652fa7733",
   "metadata": {},
   "source": [
    "- SQL\n",
    "- Python\n",
    "- R\n",
    "- JAVA"
   ]
  },
  {
   "cell_type": "markdown",
   "id": "14d9d27b-815c-41d9-bf9f-9d8b89a23423",
   "metadata": {},
   "source": [
    "#### Some of the commonly used libraries used by Data Scientists include:\n",
    "- TensorFlow\n",
    "- Pandas\n",
    "- Numpy\n",
    "- Scipy\n",
    "- Matplotlib"
   ]
  },
  {
   "cell_type": "markdown",
   "id": "e8f587fe-86cb-4d2e-94a1-d9f3050d3bfb",
   "metadata": {},
   "source": [
    "| Data Science Tools |\n",
    "| -------------------|\n",
    "| Jupyter Notebooks |\n",
    "| Rstudio | \n",
    "| Zeppelin Notebooks |"
   ]
  },
  {
   "cell_type": "markdown",
   "id": "ff4fed30-b855-495d-a340-58b14f71e758",
   "metadata": {},
   "source": [
    "### Below are a few examples of evaluating arithmetic expressions in Python"
   ]
  },
  {
   "cell_type": "code",
   "execution_count": 4,
   "id": "582ad853-2500-4011-911c-208184cf6091",
   "metadata": {},
   "outputs": [
    {
     "data": {
      "text/plain": [
       "17"
      ]
     },
     "execution_count": 4,
     "metadata": {},
     "output_type": "execute_result"
    }
   ],
   "source": [
    "(3*4)+5\n",
    "# This a simple arithmetic expression to mutiply then add integers"
   ]
  },
  {
   "cell_type": "code",
   "execution_count": 5,
   "id": "fc7ddd93-45e2-45ba-8c94-375c7127feb1",
   "metadata": {},
   "outputs": [
    {
     "data": {
      "text/plain": [
       "3.3333333333333335"
      ]
     },
     "execution_count": 5,
     "metadata": {},
     "output_type": "execute_result"
    }
   ],
   "source": [
    "# This will convert 200 minutes to hours by diving by 60\n",
    "(200/60)"
   ]
  },
  {
   "cell_type": "markdown",
   "id": "191a0315-9e0a-4958-b6fd-8f3b85c9b3c6",
   "metadata": {},
   "source": [
    "## Author\n",
    "\n",
    "Victor Cabrera"
   ]
  }
 ],
 "metadata": {
  "kernelspec": {
   "display_name": "Python 3 (ipykernel)",
   "language": "python",
   "name": "python3"
  },
  "language_info": {
   "codemirror_mode": {
    "name": "ipython",
    "version": 3
   },
   "file_extension": ".py",
   "mimetype": "text/x-python",
   "name": "python",
   "nbconvert_exporter": "python",
   "pygments_lexer": "ipython3",
   "version": "3.11.8"
  }
 },
 "nbformat": 4,
 "nbformat_minor": 5
}
